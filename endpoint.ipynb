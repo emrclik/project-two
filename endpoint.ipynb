{
 "cells": [
  {
   "cell_type": "code",
   "execution_count": 1,
   "metadata": {
    "collapsed": true
   },
   "outputs": [],
   "source": [
    "import datetime as dt\n",
    "import numpy as np\n",
    "import pandas as pd\n",
    "\n",
    "from flask import (\n",
    "    Flask,\n",
    "    render_template,\n",
    "    jsonify,\n",
    "    request,\n",
    "    redirect)\n",
    "\n",
    "import sqlalchemy\n",
    "from sqlalchemy.ext.automap import automap_base\n",
    "from sqlalchemy.orm import Session\n",
    "from sqlalchemy import create_engine, inspect\n",
    "\n",
    "#################################################\n",
    "# Flask Setup\n",
    "#################################################\n",
    "app = Flask(__name__)\n",
    "\n",
    "#################################################\n",
    "# Database Setup\n",
    "#################################################\n",
    "from flask_sqlalchemy import SQLAlchemy\n",
    "# The database URI\n",
    "app.config['SQLALCHEMY_DATABASE_URI'] = \"sqlite:///chi_db.sqlite\"\n",
    "app.config['SQLALCHEMY_TRACK_MODIFICATIONS'] = True\n",
    "\n",
    "\n",
    "engine = create_engine(\"sqlite:///chi_db.sqlite\")\n",
    "inspector = inspect(engine)\n",
    "\n",
    "db = SQLAlchemy(app)"
   ]
  },
  {
   "cell_type": "code",
   "execution_count": null,
   "metadata": {
    "collapsed": true
   },
   "outputs": [],
   "source": []
  }
 ],
 "metadata": {
  "kernelspec": {
   "display_name": "Python 3",
   "language": "python",
   "name": "python3"
  },
  "language_info": {
   "codemirror_mode": {
    "name": "ipython",
    "version": 3
   },
   "file_extension": ".py",
   "mimetype": "text/x-python",
   "name": "python",
   "nbconvert_exporter": "python",
   "pygments_lexer": "ipython3",
   "version": "3.6.3"
  }
 },
 "nbformat": 4,
 "nbformat_minor": 2
}
